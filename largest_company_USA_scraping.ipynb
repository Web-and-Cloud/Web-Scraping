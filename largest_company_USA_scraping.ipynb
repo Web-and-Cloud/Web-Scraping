{
 "cells": [
  {
   "cell_type": "code",
   "execution_count": 3,
   "id": "511e7fa3-958d-4375-ad24-f261b8320d83",
   "metadata": {},
   "outputs": [],
   "source": [
    "from bs4 import BeautifulSoup\n",
    "import requests\n",
    "import pandas as pd"
   ]
  },
  {
   "cell_type": "code",
   "execution_count": 4,
   "id": "64775ab4-bec1-445a-9e54-6d36d259c1fa",
   "metadata": {},
   "outputs": [],
   "source": [
    "url = 'https://en.wikipedia.org/wiki/List_of_largest_companies_in_the_United_States_by_revenue'\n",
    "\n",
    "page = requests.get(url)\n",
    "\n",
    "soup = BeautifulSoup(page.text, 'html')"
   ]
  },
  {
   "cell_type": "code",
   "execution_count": 16,
   "id": "a5421afc-f190-43c4-9a4c-40cbd4b6bacb",
   "metadata": {},
   "outputs": [],
   "source": [
    "table = soup.find_all('table')[1]"
   ]
  },
  {
   "cell_type": "code",
   "execution_count": 9,
   "id": "fa93e00d-3038-41a4-ad08-d8b6f55080f8",
   "metadata": {},
   "outputs": [],
   "source": [
    "world_titles= soup.find_all('th')"
   ]
  },
  {
   "cell_type": "code",
   "execution_count": 10,
   "id": "7a12e3fc-7bb4-4c30-b4a4-c249e984aed8",
   "metadata": {},
   "outputs": [
    {
     "data": {
      "text/plain": [
       "[<th>Rank\n",
       " </th>,\n",
       " <th>Name\n",
       " </th>,\n",
       " <th>Industry\n",
       " </th>,\n",
       " <th>Revenue <br/>(USD millions)\n",
       " </th>,\n",
       " <th>Revenue growth\n",
       " </th>,\n",
       " <th>Employees\n",
       " </th>,\n",
       " <th>Headquarters\n",
       " </th>,\n",
       " <th>Rank\n",
       " </th>,\n",
       " <th>Name\n",
       " </th>,\n",
       " <th>Industry\n",
       " </th>,\n",
       " <th>Revenue <br/>(USD billions)\n",
       " </th>,\n",
       " <th>Employees\n",
       " </th>,\n",
       " <th>Headquarters\n",
       " </th>,\n",
       " <th>Rank\n",
       " </th>,\n",
       " <th>Name\n",
       " </th>,\n",
       " <th>Industry\n",
       " </th>,\n",
       " <th>Profits<br/>(USD millions)\n",
       " </th>]"
      ]
     },
     "execution_count": 10,
     "metadata": {},
     "output_type": "execute_result"
    }
   ],
   "source": [
    "world_titles"
   ]
  },
  {
   "cell_type": "code",
   "execution_count": 11,
   "id": "37a7943c-3caf-48d6-9764-c36f4214491e",
   "metadata": {},
   "outputs": [
    {
     "name": "stdout",
     "output_type": "stream",
     "text": [
      "['Rank', 'Name', 'Industry', 'Revenue (USD millions)', 'Revenue growth', 'Employees', 'Headquarters', 'Rank', 'Name', 'Industry', 'Revenue (USD billions)', 'Employees', 'Headquarters', 'Rank', 'Name', 'Industry', 'Profits(USD millions)']\n"
     ]
    }
   ],
   "source": [
    "world_table_titles = [title.text.strip() for title in world_titles]\n",
    "print(world_table_titles)"
   ]
  },
  {
   "cell_type": "code",
   "execution_count": 13,
   "id": "05c2f1d1-8f46-4742-b082-ff566e740bc5",
   "metadata": {},
   "outputs": [],
   "source": [
    "df = pd.DataFrame(columns = world_table_titles)"
   ]
  },
  {
   "cell_type": "code",
   "execution_count": 14,
   "id": "b30c12b2-deb7-4313-b3be-f1ff249f141f",
   "metadata": {},
   "outputs": [
    {
     "data": {
      "text/html": [
       "<div>\n",
       "<style scoped>\n",
       "    .dataframe tbody tr th:only-of-type {\n",
       "        vertical-align: middle;\n",
       "    }\n",
       "\n",
       "    .dataframe tbody tr th {\n",
       "        vertical-align: top;\n",
       "    }\n",
       "\n",
       "    .dataframe thead th {\n",
       "        text-align: right;\n",
       "    }\n",
       "</style>\n",
       "<table border=\"1\" class=\"dataframe\">\n",
       "  <thead>\n",
       "    <tr style=\"text-align: right;\">\n",
       "      <th></th>\n",
       "      <th>Rank</th>\n",
       "      <th>Name</th>\n",
       "      <th>Industry</th>\n",
       "      <th>Revenue (USD millions)</th>\n",
       "      <th>Revenue growth</th>\n",
       "      <th>Employees</th>\n",
       "      <th>Headquarters</th>\n",
       "      <th>Rank</th>\n",
       "      <th>Name</th>\n",
       "      <th>Industry</th>\n",
       "      <th>Revenue (USD billions)</th>\n",
       "      <th>Employees</th>\n",
       "      <th>Headquarters</th>\n",
       "      <th>Rank</th>\n",
       "      <th>Name</th>\n",
       "      <th>Industry</th>\n",
       "      <th>Profits(USD millions)</th>\n",
       "    </tr>\n",
       "  </thead>\n",
       "  <tbody>\n",
       "  </tbody>\n",
       "</table>\n",
       "</div>"
      ],
      "text/plain": [
       "Empty DataFrame\n",
       "Columns: [Rank, Name, Industry, Revenue (USD millions), Revenue growth, Employees, Headquarters, Rank, Name, Industry, Revenue (USD billions), Employees, Headquarters, Rank, Name, Industry, Profits(USD millions)]\n",
       "Index: []"
      ]
     },
     "execution_count": 14,
     "metadata": {},
     "output_type": "execute_result"
    }
   ],
   "source": [
    "df"
   ]
  },
  {
   "cell_type": "code",
   "execution_count": 25,
   "id": "c6e90bc2-7dba-45b0-b4db-b18500966d14",
   "metadata": {},
   "outputs": [],
   "source": [
    "column_data = table.find_all('tr')"
   ]
  },
  {
   "cell_type": "code",
   "execution_count": 24,
   "id": "733d616b-1091-400e-bb74-b90ec568e6e3",
   "metadata": {},
   "outputs": [
    {
     "data": {
      "text/html": [
       "<div>\n",
       "<style scoped>\n",
       "    .dataframe tbody tr th:only-of-type {\n",
       "        vertical-align: middle;\n",
       "    }\n",
       "\n",
       "    .dataframe tbody tr th {\n",
       "        vertical-align: top;\n",
       "    }\n",
       "\n",
       "    .dataframe thead th {\n",
       "        text-align: right;\n",
       "    }\n",
       "</style>\n",
       "<table border=\"1\" class=\"dataframe\">\n",
       "  <thead>\n",
       "    <tr style=\"text-align: right;\">\n",
       "      <th></th>\n",
       "      <th>Rank</th>\n",
       "      <th>Name</th>\n",
       "      <th>Industry</th>\n",
       "      <th>Revenue (USD millions)</th>\n",
       "      <th>Revenue growth</th>\n",
       "      <th>Employees</th>\n",
       "      <th>Headquarters</th>\n",
       "      <th>Rank</th>\n",
       "      <th>Name</th>\n",
       "      <th>Industry</th>\n",
       "      <th>Revenue (USD billions)</th>\n",
       "      <th>Employees</th>\n",
       "      <th>Headquarters</th>\n",
       "      <th>Rank</th>\n",
       "      <th>Name</th>\n",
       "      <th>Industry</th>\n",
       "      <th>Profits(USD millions)</th>\n",
       "    </tr>\n",
       "  </thead>\n",
       "  <tbody>\n",
       "  </tbody>\n",
       "</table>\n",
       "</div>"
      ],
      "text/plain": [
       "Empty DataFrame\n",
       "Columns: [Rank, Name, Industry, Revenue (USD millions), Revenue growth, Employees, Headquarters, Rank, Name, Industry, Revenue (USD billions), Employees, Headquarters, Rank, Name, Industry, Profits(USD millions)]\n",
       "Index: []"
      ]
     },
     "execution_count": 24,
     "metadata": {},
     "output_type": "execute_result"
    }
   ],
   "source": [
    "df"
   ]
  },
  {
   "cell_type": "code",
   "execution_count": 30,
   "id": "9a467e1b-f17a-4e3b-8b83-afc7f508bb2d",
   "metadata": {},
   "outputs": [
    {
     "name": "stdout",
     "output_type": "stream",
     "text": [
      "Number of columns in world_table_titles: 17\n"
     ]
    }
   ],
   "source": [
    "print(f\"Number of columns in world_table_titles: {len(world_table_titles)}\")\n"
   ]
  },
  {
   "cell_type": "code",
   "execution_count": 31,
   "id": "c30d049e-c0d8-4efa-8152-99195642cca0",
   "metadata": {},
   "outputs": [
    {
     "name": "stdout",
     "output_type": "stream",
     "text": [
      "Row 0 has 6 columns.\n",
      "Row 1 has 6 columns.\n",
      "Row 2 has 6 columns.\n",
      "Row 3 has 6 columns.\n",
      "Row 4 has 6 columns.\n",
      "Row 5 has 6 columns.\n",
      "Row 6 has 6 columns.\n",
      "Row 7 has 6 columns.\n",
      "Row 8 has 6 columns.\n",
      "Row 9 has 6 columns.\n"
     ]
    }
   ],
   "source": [
    "for i, row in enumerate(all_rows):\n",
    "    print(f\"Row {i} has {len(row)} columns.\")\n"
   ]
  },
  {
   "cell_type": "code",
   "execution_count": 32,
   "id": "fb1b320e-1714-40fd-940e-e85e8c7af20c",
   "metadata": {},
   "outputs": [
    {
     "name": "stdout",
     "output_type": "stream",
     "text": [
      "  Rank                                Name                       Industry  \\\n",
      "0    1                             Cargill                  Food industry   \n",
      "1    2                     Koch Industries                   Conglomerate   \n",
      "2    3                Publix Super Markets                         Retail   \n",
      "3    4                  Mars, Incorporated                  Food industry   \n",
      "4    5                               H-E-B                         Retail   \n",
      "5    6                      Reyes Holdings                    Wholesaling   \n",
      "6    7                 Enterprise Holdings                     Car rental   \n",
      "7    8               C&S Wholesale Grocers                    Wholesaling   \n",
      "8    9                              Love's  Petroleum industry and Retail   \n",
      "9   10  Southern Glazer's Wine and Spirits                  Food industry   \n",
      "\n",
      "  Revenue (USD millions) Revenue growth                Employees  \n",
      "0                    177        160,000    Minnetonka, Minnesota  \n",
      "1                    125        120,000          Wichita, Kansas  \n",
      "2                   54.5        250,000    Winter Haven, Florida  \n",
      "3                     47        140,000         McLean, Virginia  \n",
      "4                   43.6        145,000       San Antonio, Texas  \n",
      "5                     40         36,000       Rosemont, Illinois  \n",
      "6                     35         90,000        Clayton, Missouri  \n",
      "7                   34.7         15,000     Keene, New Hampshire  \n",
      "8                   26.5         40,000  Oklahoma City, Oklahoma  \n",
      "9                   26.0         24,000         Miramar, Florida  \n"
     ]
    }
   ],
   "source": [
    "# Ensure column titles match row data\n",
    "if len(world_table_titles) > len(all_rows[0]):\n",
    "    world_table_titles = world_table_titles[:len(all_rows[0])]\n",
    "\n",
    "# Ensure all rows match the number of columns\n",
    "for i, row in enumerate(all_rows):\n",
    "    if len(row) < len(world_table_titles):\n",
    "        all_rows[i] = row + [\"\"] * (len(world_table_titles) - len(row))\n",
    "\n",
    "# Create DataFrame\n",
    "df = pd.DataFrame(all_rows, columns=world_table_titles)\n",
    "\n",
    "# Display DataFrame\n",
    "print(df)\n"
   ]
  },
  {
   "cell_type": "code",
   "execution_count": null,
   "id": "3ed8e072-4558-44cc-92b0-a17587bc16d9",
   "metadata": {},
   "outputs": [],
   "source": []
  },
  {
   "cell_type": "code",
   "execution_count": 34,
   "id": "995ba7c4-6794-4c23-9a03-aa1f4d9dc3b1",
   "metadata": {},
   "outputs": [
    {
     "name": "stdout",
     "output_type": "stream",
     "text": [
      "     Rank                  Name                    Industry  \\\n",
      "0    Rank                  Name                    Industry   \n",
      "1       1               Walmart                      Retail   \n",
      "2       2                Amazon  Retail and cloud computing   \n",
      "3       3                 Apple        Electronics industry   \n",
      "4       4    UnitedHealth Group                  Healthcare   \n",
      "..    ...                   ...                         ...   \n",
      "96     96                  TIAA                  Financials   \n",
      "97     97                   CHS     Agriculture cooperative   \n",
      "98     98  Bristol-Myers Squibb     Pharmaceutical industry   \n",
      "99     99  Dow Chemical Company           Chemical industry   \n",
      "100   100              Best Buy                      Retail   \n",
      "\n",
      "     Revenue (USD millions)  Revenue growth  Employees  \\\n",
      "0    Revenue (USD millions)  Revenue growth  Employees   \n",
      "1                   648,125            6.0%  2,100,000   \n",
      "2                   574,785           11.9%  1,525,000   \n",
      "3                   383,482           -2.8%    161,000   \n",
      "4                   371,622           14.6%    440,000   \n",
      "..                      ...             ...        ...   \n",
      "96                   45,735           11.8%     16,023   \n",
      "97                   45,590           -4.6%     10,609   \n",
      "98                   45,006           -2.5%     34,100   \n",
      "99                   44,622          -21.6%     35,900   \n",
      "100                  43,452           -6.1%     85,000   \n",
      "\n",
      "                       Headquarters  \n",
      "0                      Headquarters  \n",
      "1             Bentonville, Arkansas  \n",
      "2               Seattle, Washington  \n",
      "3             Cupertino, California  \n",
      "4             Minnetonka, Minnesota  \n",
      "..                              ...  \n",
      "96          New York City, New York  \n",
      "97   Inver Grove Heights, Minnesota  \n",
      "98          New York City, New York  \n",
      "99                Midland, Michigan  \n",
      "100            Richfield, Minnesota  \n",
      "\n",
      "[101 rows x 7 columns]\n"
     ]
    }
   ],
   "source": [
    "import pandas as pd\n",
    "from bs4 import BeautifulSoup\n",
    "\n",
    "# Sample HTML parsing (use your actual BeautifulSoup table parsing logic here)\n",
    "soup = BeautifulSoup(page.text, \"html.parser\")  # Replace html_content with your actual HTML source\n",
    "table = soup.find(\"table\")  # Find the table in your HTML source\n",
    "\n",
    "# Extract headers\n",
    "world_table_titles = ['Rank', 'Name', 'Industry', 'Revenue (USD millions)', 'Revenue growth', 'Employees', 'Headquarters']\n",
    "\n",
    "# Extract all rows\n",
    "rows = table.find_all(\"tr\")\n",
    "all_rows = []\n",
    "for row in rows:\n",
    "    cells = row.find_all([\"td\", \"th\"])  # Extract both data and header cells\n",
    "    row_data = [cell.text.strip() for cell in cells]\n",
    "    all_rows.append(row_data)\n",
    "\n",
    "# Filter out rows with incorrect number of columns\n",
    "filtered_rows = [row for row in all_rows if len(row) == len(world_table_titles)]\n",
    "\n",
    "# Create DataFrame\n",
    "df = pd.DataFrame(filtered_rows, columns=world_table_titles)\n",
    "\n",
    "# Display the DataFrame\n",
    "print(df)\n"
   ]
  },
  {
   "cell_type": "code",
   "execution_count": null,
   "id": "e33d12aa-2125-4d15-9ad7-d6076895247a",
   "metadata": {},
   "outputs": [],
   "source": []
  }
 ],
 "metadata": {
  "kernelspec": {
   "display_name": "Python 3 (ipykernel)",
   "language": "python",
   "name": "python3"
  },
  "language_info": {
   "codemirror_mode": {
    "name": "ipython",
    "version": 3
   },
   "file_extension": ".py",
   "mimetype": "text/x-python",
   "name": "python",
   "nbconvert_exporter": "python",
   "pygments_lexer": "ipython3",
   "version": "3.12.7"
  }
 },
 "nbformat": 4,
 "nbformat_minor": 5
}
